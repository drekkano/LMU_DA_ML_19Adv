{
 "cells": [
  {
   "cell_type": "markdown",
   "metadata": {},
   "source": [
    "Neural networks can sometimes be easy fooled. Try to create a random looking image that makes the NN from [CNNIntro.ipynb](CNNIntro.ipynb) think that it sees a cat. You need to run that notebook before to get the model!"
   ]
  },
  {
   "cell_type": "code",
   "execution_count": null,
   "metadata": {},
   "outputs": [],
   "source": [
    "import keras\n",
    "import keras.backend as K\n",
    "import numpy as np\n",
    "import matplotlib.pyplot as plt"
   ]
  },
  {
   "cell_type": "code",
   "execution_count": null,
   "metadata": {},
   "outputs": [],
   "source": [
    "labels = [\"airplane\", \"automobile\", \"bird\", \"cat\", \"deer\", \"dog\", \"frog\", \"horse\", \"ship\", \"truck\"]"
   ]
  },
  {
   "cell_type": "code",
   "execution_count": null,
   "metadata": {},
   "outputs": [],
   "source": [
    "model = keras.models.load_model(\"CNNIntro_model.h5\")"
   ]
  },
  {
   "cell_type": "markdown",
   "metadata": {},
   "source": [
    "Start with this random image:"
   ]
  },
  {
   "cell_type": "code",
   "execution_count": null,
   "metadata": {},
   "outputs": [],
   "source": [
    "rnd_img = 0.1*np.random.rand(1, 32, 32, 3)"
   ]
  },
  {
   "cell_type": "code",
   "execution_count": null,
   "metadata": {},
   "outputs": [],
   "source": [
    "plt.imshow(rnd_img[0])"
   ]
  },
  {
   "cell_type": "markdown",
   "metadata": {},
   "source": [
    "What does our model say to this?"
   ]
  },
  {
   "cell_type": "code",
   "execution_count": null,
   "metadata": {},
   "outputs": [],
   "source": [
    "plt.bar(labels, model.predict(rnd_img)[0])\n",
    "plt.xticks(rotation=90)"
   ]
  },
  {
   "cell_type": "markdown",
   "metadata": {},
   "source": [
    "Let's see if we can modify the image such that the NN thinks this is a cat. So we want to maximise the output for cat:"
   ]
  },
  {
   "cell_type": "code",
   "execution_count": null,
   "metadata": {},
   "outputs": [],
   "source": [
    "cat_loss = K.mean(model.output[:,labels.index('airplane')])\n",
    "cat_loss"
   ]
  },
  {
   "cell_type": "markdown",
   "metadata": {},
   "source": [
    "By calculating the gradient w.r.t the input image"
   ]
  },
  {
   "cell_type": "code",
   "execution_count": null,
   "metadata": {},
   "outputs": [],
   "source": [
    "grad_inp_fn = K.function([model.input], K.gradients(cat_loss, [model.input]))"
   ]
  },
  {
   "cell_type": "markdown",
   "metadata": {},
   "source": [
    "Now, call this function on the input image and create a new one by successively following the gradient for a few steps and check if the neural network then sees a cat. The function is called with a list of one element in this case and returns one element:"
   ]
  },
  {
   "cell_type": "code",
   "execution_count": null,
   "metadata": {},
   "outputs": [],
   "source": [
    "grad_inp_fn([rnd_img])"
   ]
  },
  {
   "cell_type": "code",
   "execution_count": null,
   "metadata": {},
   "outputs": [],
   "source": []
  },
  {
   "cell_type": "code",
   "execution_count": null,
   "metadata": {},
   "outputs": [],
   "source": [
    "#model.predict(rnd_img)[0]\n",
    "#cat_loss = K.mean(model.output[:,labels.index('cat')])\n",
    "#grad_inp_fn = K.function([model.input], K.gradients(cat_loss, [model.input]))\n",
    "for it in range(1000):\n",
    "    grad = grad_inp_fn([rnd_img])\n",
    "    rnd_img += 0.1*grad[0]\n",
    "    model.predict(rnd_img)[0]\n",
    "    prob_cat = model.predict(rnd_img)[0][labels.index(\"airplane\")]\n",
    "    if it < 10 or (it % 5) == 0:\n",
    "        print(\"%d: %.3f cat\" % (it, prob_cat))\n",
    "    if prob_cat > 0.995:\n",
    "        break\n",
    "plt.bar(labels, model.predict(rnd_img)[0])\n",
    "plt.xticks(rotation=90)"
   ]
  },
  {
   "cell_type": "code",
   "execution_count": null,
   "metadata": {},
   "outputs": [],
   "source": [
    "plt.imshow(rnd_img[0]*5)"
   ]
  },
  {
   "cell_type": "markdown",
   "metadata": {},
   "source": [
    "Now we just do the same for all 10 labels that are used for the classification of the image set and compare the different results."
   ]
  },
  {
   "cell_type": "code",
   "execution_count": null,
   "metadata": {},
   "outputs": [],
   "source": [
    "imgs = {}\n",
    "for label in labels:\n",
    "    print(\"Training for %s\" % label)\n",
    "    loss = K.mean(model.output[:,labels.index(label)])\n",
    "    grad_inp_fn = K.function([model.input], K.gradients(cat_loss, [model.input]))\n",
    "    rnd_img = 0.1*np.random.rand(1, 32, 32, 3)\n",
    "    for it in range(1000):\n",
    "        grad = grad_inp_fn([rnd_img])\n",
    "        rnd_img += 0.1*grad[0]\n",
    "        model.predict(rnd_img)[0]\n",
    "        prob_cat = model.predict(rnd_img)[0][labels.index(\"airplane\")]\n",
    "        if prob_cat > 0.995:\n",
    "            break\n",
    "    imgs[label] = rnd_img"
   ]
  },
  {
   "cell_type": "code",
   "execution_count": null,
   "metadata": {},
   "outputs": [],
   "source": [
    "fig, axs = plt.subplots(nrows=2, ncols=5, figsize=(20,6))\n",
    "idx = 0\n",
    "for label, img in imgs.items():\n",
    "    axs.reshape(-1)[idx].imshow(img[0]*10)\n",
    "    axs.reshape(-1)[idx].set(xlabel=label)\n",
    "    idx += 1\n"
   ]
  },
  {
   "cell_type": "code",
   "execution_count": null,
   "metadata": {},
   "outputs": [],
   "source": []
  }
 ],
 "metadata": {
  "kernelspec": {
   "display_name": "Python 3",
   "language": "python",
   "name": "python3"
  },
  "language_info": {
   "codemirror_mode": {
    "name": "ipython",
    "version": 2
   },
   "file_extension": ".py",
   "mimetype": "text/x-python",
   "name": "python",
   "nbconvert_exporter": "python",
   "pygments_lexer": "ipython2",
   "version": "2.7.15+"
  }
 },
 "nbformat": 4,
 "nbformat_minor": 2
}
